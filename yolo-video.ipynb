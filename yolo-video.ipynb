{
 "cells": [
  {
   "cell_type": "markdown",
   "metadata": {
    "collapsed": true
   },
   "source": [
    "# YOLO Ojbect detection on video\n",
    "\n",
    "use pretrained model from COCO Dataset\n",
    "\n",
    "The code inputs a video file and output the video with object detection. "
   ]
  },
  {
   "cell_type": "code",
   "execution_count": 1,
   "metadata": {
    "collapsed": true
   },
   "outputs": [],
   "source": [
    "import numpy as np\n",
    "import argparse\n",
    "import imutils\n",
    "import time\n",
    "import cv2\n",
    "import os"
   ]
  },
  {
   "cell_type": "code",
   "execution_count": 24,
   "metadata": {
    "collapsed": true
   },
   "outputs": [],
   "source": [
    "\n",
    "image_path = \"./images/\"\n",
    "yolo_path = \"./yolo-coco/\"\n",
    "video_path = \"./videos/\"\n",
    "out_path = \"./output/\"\n",
    "\n",
    "confidence_threshold = 0.5 # prediction confidence threshold\n",
    "nms_threshold = 0.3 # non-maxima suppression threshold "
   ]
  },
  {
   "cell_type": "code",
   "execution_count": 3,
   "metadata": {},
   "outputs": [
    {
     "name": "stdout",
     "output_type": "stream",
     "text": [
      "YOLO loaded\n"
     ]
    }
   ],
   "source": [
    "\n",
    "labelsPath = os.path.sep.join([yolo_path, \"coco.names\"])\n",
    "LABELS = open(labelsPath).read().strip().split(\"\\n\")\n",
    "\n",
    "\n",
    "# use random colors to represent each class label\n",
    "np.random.seed(42)\n",
    "COLORS = np.random.randint(0, 255, size=(len(LABELS), 3), dtype=\"uint8\")\n",
    "\n",
    "# paths to the YOLO weights and model configuration\n",
    "weightsPath = os.path.sep.join([yolo_path, \"yolov3.weights\"])\n",
    "configPath = os.path.sep.join([yolo_path, \"yolov3.cfg\"])\n",
    "\n",
    "# load YOLO object detector trained on COCO through cv2\n",
    "net = cv2.dnn.readNetFromDarknet(configPath, weightsPath)\n",
    "print(\"YOLO loaded\")"
   ]
  },
  {
   "cell_type": "code",
   "execution_count": 4,
   "metadata": {},
   "outputs": [
    {
     "name": "stdout",
     "output_type": "stream",
     "text": [
      "['yolo_82', 'yolo_94', 'yolo_106']\n"
     ]
    }
   ],
   "source": [
    "# get only the *output* layer names for prediction\n",
    "ln = net.getLayerNames()\n",
    "\n",
    "ln_out = [ln[i[0] - 1] for i in net.getUnconnectedOutLayers()]\n",
    "print(ln_out)"
   ]
  },
  {
   "cell_type": "code",
   "execution_count": null,
   "metadata": {
    "collapsed": true
   },
   "outputs": [],
   "source": []
  },
  {
   "cell_type": "code",
   "execution_count": 10,
   "metadata": {},
   "outputs": [],
   "source": [
    "input_path = video_path+\"babbling.mp4\"\n",
    "output_path = out_path + \"babbling_output.mp4\""
   ]
  },
  {
   "cell_type": "code",
   "execution_count": 28,
   "metadata": {},
   "outputs": [
    {
     "name": "stdout",
     "output_type": "stream",
     "text": [
      "250 total frames in video\n"
     ]
    }
   ],
   "source": [
    "\n",
    "# initialize the video stream, pointer to output video file, and\n",
    "# frame dimensions\n",
    "vs = cv2.VideoCapture(input_path)\n",
    "\n",
    "writer = None\n",
    "(W, H) = (None, None)\n",
    " \n",
    "# determine the total number of frames in the video file\n",
    "try:\n",
    "    prop = cv2.cv.CV_CAP_PROP_FRAME_COUNT if imutils.is_cv2() \\\n",
    "        else cv2.CAP_PROP_FRAME_COUNT\n",
    "    total = int(vs.get(prop))\n",
    "    print(\"{} total frames in video\".format(total))\n",
    " \n",
    "except:\n",
    "    print(\"Could not determine # of frames in video\")\n",
    "    print(\"No approx. completion time can be provided\")\n",
    "    total = -1"
   ]
  },
  {
   "cell_type": "markdown",
   "metadata": {},
   "source": [
    "# Prediction and output\n",
    "\n",
    "Loop over frames from the video file stream, process it frame by frame\n",
    "\n",
    "Make prediction -> draw the predicted box, class, confidence on the image -> write to output"
   ]
  },
  {
   "cell_type": "code",
   "execution_count": 29,
   "metadata": {},
   "outputs": [
    {
     "name": "stdout",
     "output_type": "stream",
     "text": [
      "Done...\n"
     ]
    }
   ],
   "source": [
    "\n",
    "while True:\n",
    "    # read the next frame from the file\n",
    "    (grabbed, frame) = vs.read()\n",
    "\n",
    "    # if grabbed is false, then we have reached the end of the stream\n",
    "    if not grabbed:\n",
    "        break\n",
    "\n",
    "    # save the H and W of the image and scale back the image later\n",
    "    if W is None or H is None:\n",
    "        (H, W) = frame.shape[:2]\n",
    "        \n",
    "    # construct a blob from the input frame resize it to 416*416 \n",
    "    # and then make a prediction, results are bounding boxes\n",
    "    # and associated probabilities\n",
    "    blob = cv2.dnn.blobFromImage(frame, 1 / 255.0, (416, 416),\n",
    "        swapRB=True, crop=False)\n",
    "    net.setInput(blob)\n",
    "    start = time.time()\n",
    "    layerOutputs = net.forward(ln_out)\n",
    "    end = time.time()\n",
    "    \n",
    "    \n",
    "    boxes = []  # bounding boxes\n",
    "    confidences = [] # confidences\n",
    "    classIDs = [] # class type\n",
    "\n",
    "    # loop over each of the layer outputs ['yolo_82', 'yolo_94', 'yolo_106']\n",
    "\n",
    "    for output in layerOutputs:\n",
    "        # loop over each of the detections \n",
    "        confidence_list = np.array([detection[5:][np.argmax(detection[5:])] for detection in output])\n",
    "\n",
    "        # filter out weak predictions\n",
    "\n",
    "        for detection in np.array(output)[confidence_list>confidence_threshold]:\n",
    "\n",
    "            # extract the class ID and confidence (i.e., probability)\n",
    "            # of the current object detection\n",
    "            scores = detection[5:]\n",
    "            classID = np.argmax(scores)\n",
    "            confidence = scores[classID]\n",
    "            \n",
    " \n",
    "            # YOLO returns the center (x, y)-coordinates of\n",
    "            # the bounding box followed by the boxes' width and\n",
    "            # height\n",
    "            box = detection[0:4] * np.array([W, H, W, H])\n",
    "            (centerX, centerY, width, height) = box.astype(\"int\")\n",
    "\n",
    "            # get top and and left corner of the bounding box\n",
    "            x = int(centerX - (width / 2))\n",
    "            y = int(centerY - (height / 2))\n",
    "\n",
    "            # update list of bounding box coordinates, confidences, and class IDs\n",
    "            boxes.append([x, y, int(width), int(height)])\n",
    "            confidences.append(float(confidence))\n",
    "            classIDs.append(classID)\n",
    "\n",
    "    # non-maxima suppression \n",
    "    idxs = cv2.dnn.NMSBoxes(boxes, confidences, confidence_threshold,\n",
    "        nms_threshold)\n",
    "\n",
    "    # if there is detection\n",
    "    if len(idxs) > 0:\n",
    "        for i in idxs.flatten():\n",
    "            # bounding box coordinates\n",
    "            (x, y) = (boxes[i][0], boxes[i][1])\n",
    "            (w, h) = (boxes[i][2], boxes[i][3])\n",
    "\n",
    "            # draw a bounding box rectangle and label on the frame\n",
    "            color = [int(c) for c in COLORS[classIDs[i]]]\n",
    "            cv2.rectangle(frame, (x, y), (x + w, y + h), color, 2)\n",
    "            text = \"{}: {:.4f}\".format(LABELS[classIDs[i]],\n",
    "                confidences[i])\n",
    "            cv2.putText(frame, text, (x, y - 5),\n",
    "                cv2.FONT_HERSHEY_SIMPLEX, 0.5, color, 2)\n",
    "    \n",
    "    if writer is None:\n",
    "        # initialize our video writer\n",
    "        fourcc = cv2.VideoWriter_fourcc(*\"MJPG\")\n",
    "        writer = cv2.VideoWriter(output_path, fourcc, 30,\n",
    "            (frame.shape[1], frame.shape[0]), True)\n",
    "\n",
    "    # write the output frame to disk\n",
    "    writer.write(frame)\n",
    "    \n",
    "print(\"Done...\")\n",
    "writer.release()\n",
    "vs.release()    "
   ]
  }
 ],
 "metadata": {
  "kernelspec": {
   "display_name": "Python 3",
   "language": "python",
   "name": "python3"
  },
  "language_info": {
   "codemirror_mode": {
    "name": "ipython",
    "version": 3
   },
   "file_extension": ".py",
   "mimetype": "text/x-python",
   "name": "python",
   "nbconvert_exporter": "python",
   "pygments_lexer": "ipython3",
   "version": "3.6.0"
  }
 },
 "nbformat": 4,
 "nbformat_minor": 2
}
